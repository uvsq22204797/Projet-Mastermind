{
 "cells": [
  {
   "cell_type": "code",
   "execution_count": 2,
   "metadata": {},
   "outputs": [
    {
     "name": "stdout",
     "output_type": "stream",
     "text": [
      "[3, 3, 2, 1]\n"
     ]
    }
   ],
   "source": [
    "\n",
    "import random\n",
    "\n",
    "def secret_list(max_range) :\n",
    "        secret_list = []\n",
    "        for i in range (4) :\n",
    "             secret_list.append(random.randint(1,max_range))\n",
    "        return secret_list\n",
    "mastermind_list= secret_list(5)\n",
    "\n",
    "print(secret_list(4))\n",
    "\n",
    "\n",
    "\n",
    "# le jeu commence réelement \n",
    "\n",
    "print(\"Bienvenue dans le jeu Mastermind!\")\n",
    "correct = 0\n",
    "while correct<4 :\n",
    "      guess1 = int(input(\"cherche le premier nombre\"))\n",
    "      guess2 = int(input(\"cherche le deuxième nombre\"))\n",
    "      guess3 = int(input(\"cherche le troisième nombre\"))\n",
    "      guess4 = int(input(\"cherche le quatrième nombre\"))\n",
    "\n",
    "if guess1 == secret_list[0] :\n",
    "       correct +=1\n",
    "if guess2 == secret_list[1] :\n",
    "     correct+=1\n",
    "     "
   ]
  },
  {
   "cell_type": "code",
   "execution_count": null,
   "metadata": {},
   "outputs": [],
   "source": [
    "import tkinter as tk\n",
    "import random\n",
    "\n",
    "racine=tk.Tk()\n",
    "racine.title(\"MASTERMIND\")\n",
    "\n",
    "\n",
    "# Couleurs possibles pour les pions\n",
    "couleurs = [\"bleu\", \"vert\", \"jaune\", \"orange\", \"jaune\", \"marron\"]\n",
    "\n",
    "\n",
    "# Fonction pour vérifier la combinaison proposée par le joueur\n",
    "def verification(essai, code_bon):\n",
    "    bonne_place = 0\n",
    "    mauvaise_place = 0\n",
    "    \n",
    "    for i in range(4):\n",
    "        if essai[i]==code_bon[i]:\n",
    "            bonne_place+=1\n",
    "        elif essai[i] in code_bon:\n",
    "            mauvaise_place+=1\n",
    "            \n",
    "    return bonne_place, mauvaise_place\n",
    "\n",
    "\n",
    "\n",
    "# Fonction qui génère le code aléatoire pour le mode 1 joueur\n",
    "\n",
    "def code_aleatoire():\n",
    "    couleurs = [\"bleu\", \"vert\", \"jaune\", \"orange\", \"jaune\", \"marron\"]\n",
    "    code_alea = \"\"\n",
    "    \n",
    "    for i in range(4):\n",
    "        code_alea += (random.choice(couleurs)+\" \")\n",
    "        \n",
    "    return code_alea\n",
    "#(code_aleatoire())\n",
    "\n",
    "\n",
    "\n",
    "\n",
    "\n",
    "\n",
    "#code_joueur1=input(\"Choissisez 4 couleurs parmi les suivantes en respectant la syntaxe: bleu, vert, jaune, orange, jaune, marron\")\n",
    "\n",
    "\n",
    "\n",
    "\n",
    "\n",
    "\n",
    "racine.mainloop()"
   ]
  },
  {
   "cell_type": "code",
   "execution_count": 3,
   "metadata": {},
   "outputs": [],
   "source": [
    "import tkinter as tk\n",
    "import random\n",
    "from tkinter import Label, Button\n",
    "from tkinter import BOTH, X, Y\n",
    "import tkinter.font as font\n",
    "\n",
    "racine=tk.Tk()\n",
    "racine.title(\"MASTERMIND\")\n",
    "racine.geometry('700x620')\n",
    "racine.config(bg='blue')\n",
    "\n",
    "# Définir le style: type de la police, taille et gras\n",
    "style_A = font.Font(family='Times New Roman', size=20, weight=\"bold\")\n",
    "\n",
    "# Définir les titres (Label) et les boutons (Button)\n",
    "Bienvenue_Acceuil_1 = Label(racine, text='Bienvenue dans le jeu MASTERMIND', bg= 'turquoise', font=30).pack(fill=X)\n",
    "Bienvenue_Acceuil_2 = Label(racine, text='Choisissez un mode de jeu', bg = 'dark green', font=20).pack(fill=Y)\n",
    "bouton_1_joueur = Button(racine, text='1 joueur', bg = 'dark green', fg ='pink', command = lambda: mode_1_joueur)\n",
    "bouton_2_joueurs = Button(racine, text='2 joueurs', bg = 'dark green', fg ='pink', command = lambda: mode_2_joueurs)\n",
    "bouton_1_joueur.place(x=180, y=200)\n",
    "bouton_1_joueur['font'] = style_A\n",
    "bouton_2_joueurs.place(x=400, y=200)\n",
    "bouton_2_joueurs['font'] = style_A\n",
    "\n",
    "# l'activation du \"bouton_1_joueur\" appelle la fonction \"mode_1_joueur\"\n",
    "def mode_1_joueur():  \n",
    "    racine.configure(bg='white')\n",
    "    command = bouton_1_joueur.destroy()\n",
    "    command = bouton_2_joueurs.destroy()\n",
    "\n",
    "# l'activation du \"bouton_2_joueurs\" appelle la fonction \"mode_2_joueurs\"\n",
    "def mode_2_joueurs():\n",
    "    racine.config(bg='grey')\n",
    "    command = bouton_1_joueur.destroy()\n",
    "    command = bouton_2_joueurs.destroy()\n",
    "\n",
    "racine.mainloop()"
   ]
  },
  {
   "cell_type": "code",
   "execution_count": 6,
   "metadata": {},
   "outputs": [],
   "source": [
    "# mode 1 joueur :\n",
    "\n",
    "# l'ordi choisit une combinaison :\n",
    "\n",
    "def code_aleatoire():\n",
    "    couleurs = [\"bleu\", \"vert\", \"jaune\", \"orange\", \"rouge\", \"marron\"]\n",
    "    code_alea = \"\"\n",
    "    \n",
    "    for i in range(4):\n",
    "        code_alea += (random.choice(couleurs)+\" \")\n",
    "        \n",
    "def choix_joueur():\n",
    "    couleurs = [\"bleu\", \"vert\", \"jaune\", \"orange\", \"rouge\", \"marron\"]\n",
    "    for i in range (4) :\n",
    "        a = int(input(\"choisie une combinaison de 4 couleurs \"))\n",
    "        \n",
    "\n",
    "\n",
    "\n",
    "\n"
   ]
  },
  {
   "cell_type": "code",
   "execution_count": 12,
   "metadata": {},
   "outputs": [],
   "source": [
    "def code_aleatoire():\n",
    "    couleurs = [\"bleu\", \"vert\", \"jaune\", \"orange\", \"rouge\", \"marron\"]\n",
    "    code_alea = \"\"\n",
    "    \n",
    "    for i in range(4):\n",
    "        code_alea += (random.choice(couleurs)+\" \")\n",
    "\n",
    "\n",
    "def choix_couleur () :\n",
    "    for i in range (4) : \n",
    "        a = str(input(\"choisie une couleur\"))\n",
    "        print (a)\n",
    "    if a == code_aleatoire :\n",
    "        \n",
    "        \n",
    "    else :\n",
    "        print (\"false\")\n",
    "\n",
    "\n",
    "\n"
   ]
  },
  {
   "cell_type": "code",
   "execution_count": 26,
   "metadata": {},
   "outputs": [
    {
     "ename": "NameError",
     "evalue": "name 'combi' is not defined",
     "output_type": "error",
     "traceback": [
      "\u001b[1;31m---------------------------------------------------------------------------\u001b[0m",
      "\u001b[1;31mNameError\u001b[0m                                 Traceback (most recent call last)",
      "\u001b[1;32mUntitled-1.ipynb Cellule 6\u001b[0m in \u001b[0;36m7\n\u001b[0;32m      <a href='vscode-notebook-cell:Untitled-1.ipynb?jupyter-notebook#W5sdW50aXRsZWQ%3D?line=2'>3</a>\u001b[0m \u001b[39mdef\u001b[39;00m \u001b[39mchoix_1\u001b[39m (combi) :\n\u001b[0;32m      <a href='vscode-notebook-cell:Untitled-1.ipynb?jupyter-notebook#W5sdW50aXRsZWQ%3D?line=3'>4</a>\u001b[0m     couleurs \u001b[39m=\u001b[39m [\u001b[39m\"\u001b[39m\u001b[39mjaune\u001b[39m\u001b[39m\"\u001b[39m,\u001b[39m\"\u001b[39m\u001b[39mmarron\u001b[39m\u001b[39m\"\u001b[39m,\u001b[39m\"\u001b[39m\u001b[39mbleu\u001b[39m\u001b[39m\"\u001b[39m,\u001b[39m\"\u001b[39m\u001b[39mvert\u001b[39m\u001b[39m\"\u001b[39m,\u001b[39m\"\u001b[39m\u001b[39mrouge \u001b[39m\u001b[39m\"\u001b[39m, \u001b[39m\"\u001b[39m\u001b[39morange\u001b[39m\u001b[39m\"\u001b[39m]\n\u001b[1;32m----> <a href='vscode-notebook-cell:Untitled-1.ipynb?jupyter-notebook#W5sdW50aXRsZWQ%3D?line=6'>7</a>\u001b[0m \u001b[39mprint\u001b[39m(combi(\u001b[39minput\u001b[39m(\u001b[39m\"\u001b[39m\u001b[39mchoix couleur\u001b[39m\u001b[39m\"\u001b[39m)))\n",
      "\u001b[1;31mNameError\u001b[0m: name 'combi' is not defined"
     ]
    }
   ],
   "source": [
    "# mode 2 joueurs\n",
    "\n",
    "def choix_1 (combi) :\n",
    "    couleurs = [\"jaune\",\"marron\",\"bleu\",\"vert\",\"rouge \", \"orange\"]\n",
    " \n",
    "\n",
    "print(combi(input(\"choix couleur\")))\n",
    "\n",
    "    \n"
   ]
  },
  {
   "cell_type": "code",
   "execution_count": 30,
   "metadata": {},
   "outputs": [],
   "source": [
    "from math import *\n",
    "\n",
    "def master_minde(nb = 10) :\n",
    "    for i in range (4):\n",
    "        code = input(\"choix couleur\")\n",
    "    for i in range (nb) :\n",
    "        joueur_2 = [int(i) for i in input('choix_code')]\n",
    "        bien = sum([code[i] == joueur_2[i] for i in range (4) ])\n",
    "        if bien == 4 :\n",
    "           return('bravo ', code)\n",
    "        mal = len(set(code) & set (joueur_2)) - bien \n",
    "        print (\"bien placé:\",bien,\",mal placé:\",mal)\n",
    "    return ('perdu', code)"
   ]
  }
 ],
 "metadata": {
  "kernelspec": {
   "display_name": "Python 3",
   "language": "python",
   "name": "python3"
  },
  "language_info": {
   "codemirror_mode": {
    "name": "ipython",
    "version": 3
   },
   "file_extension": ".py",
   "mimetype": "text/x-python",
   "name": "python",
   "nbconvert_exporter": "python",
   "pygments_lexer": "ipython3",
   "version": "3.8.2"
  },
  "orig_nbformat": 4,
  "vscode": {
   "interpreter": {
    "hash": "570feb405e2e27c949193ac68f46852414290d515b0ba6e5d90d076ed2284471"
   }
  }
 },
 "nbformat": 4,
 "nbformat_minor": 2
}
